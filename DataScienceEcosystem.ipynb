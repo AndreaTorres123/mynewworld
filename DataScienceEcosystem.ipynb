{
 "cells": [
  {
   "cell_type": "markdown",
   "id": "dc2d7d32-c9ad-472e-bfec-11b3c395ddbd",
   "metadata": {},
   "source": [
    "# Data Science Tools and Ecosystem"
   ]
  },
  {
   "cell_type": "markdown",
   "id": "6a135cf6-0de7-447a-8eaa-335fcc647542",
   "metadata": {},
   "source": [
    "## In this notebook, Data Science Tools and Ecosystem are summarized."
   ]
  },
  {
   "cell_type": "markdown",
   "id": "1bc70529-aaab-4cfc-ab73-b72eecdd2e46",
   "metadata": {},
   "source": [
    "### Some of the popular languages that Data Scientists use are:\n",
    "##### ordered list:"
   ]
  },
  {
   "cell_type": "markdown",
   "id": "e449c5bf-05d8-41e1-8ec4-fde167176993",
   "metadata": {},
   "source": [
    "- Python\n",
    "- R\n",
    "- SQL\n",
    "- JavaScript\n",
    "- Julia"
   ]
  },
  {
   "cell_type": "markdown",
   "id": "8e18d083-cbf4-49ea-8e81-fe43ef1f06c9",
   "metadata": {},
   "source": [
    "#### **Objectives**:"
   ]
  },
  {
   "cell_type": "markdown",
   "id": "2ad6f066-dfb1-43d6-9588-8feb2b581bb5",
   "metadata": {},
   "source": [
    "##### List the objectives that this notebook covered\n",
    "| Objectives of Jupyter Notebook |\n",
    "|------------------- |\n",
    "|Interactive Data Science and Scientific Computing |\n",
    "| Reproducible Research and Collaboration |\n",
    "| Educational Tool for Learning and Teaching |\n"
   ]
  },
  {
   "cell_type": "markdown",
   "id": "3b127fce-bc80-4d42-8790-7a6af2050f71",
   "metadata": {},
   "source": [
    "### Some of the commonly used libraries used by Data Scientists include:\n",
    "#### ordered list:"
   ]
  },
  {
   "cell_type": "markdown",
   "id": "5579f712-04c3-4e17-aa52-de733b535d3e",
   "metadata": {},
   "source": [
    "- Pandas\n",
    "- Numphy\n",
    "- Scipy"
   ]
  },
  {
   "cell_type": "markdown",
   "id": "9b55ee8c-2716-44d7-9731-137eb9ba6ded",
   "metadata": {},
   "source": [
    "### Data Science Tools table\n",
    "| Data Science Tools |\n",
    "|------------------- |\n",
    "| Jupyter Notebooks |\n",
    "| Rstudio |\n",
    "|CSV Studio |"
   ]
  },
  {
   "cell_type": "markdown",
   "id": "5590cffd-fce3-429c-a151-ef3cb238acee",
   "metadata": {},
   "source": [
    "### Below are a few examples of evaluating arithmetic expressions in Python."
   ]
  },
  {
   "cell_type": "code",
   "execution_count": 3,
   "id": "981041ac-c19a-420f-8aff-f8edae99589a",
   "metadata": {},
   "outputs": [
    {
     "data": {
      "text/plain": [
       "6"
      ]
     },
     "execution_count": 3,
     "metadata": {},
     "output_type": "execute_result"
    }
   ],
   "source": [
    "2+2+2"
   ]
  },
  {
   "cell_type": "markdown",
   "id": "dbb16e0b-da1b-4c41-92c8-57d1bc2b2071",
   "metadata": {},
   "source": [
    "### This a simple arithmetic expression to mutiply then add integers"
   ]
  },
  {
   "cell_type": "code",
   "execution_count": 5,
   "id": "c452d4bc-e751-4ad1-b6b3-a97759ad8628",
   "metadata": {},
   "outputs": [
    {
     "data": {
      "text/plain": [
       "17"
      ]
     },
     "execution_count": 5,
     "metadata": {},
     "output_type": "execute_result"
    }
   ],
   "source": [
    "(3*4)+5"
   ]
  },
  {
   "cell_type": "markdown",
   "id": "28d542c6-7346-4095-b8f4-ef1b3686a846",
   "metadata": {},
   "source": [
    "### This will convert 200 minutes to hours by diving by 60"
   ]
  },
  {
   "cell_type": "code",
   "execution_count": 8,
   "id": "fb0cb3f9-807d-4eb8-a915-b0bfd480042f",
   "metadata": {},
   "outputs": [
    {
     "data": {
      "text/plain": [
       "3.3333333333333335"
      ]
     },
     "execution_count": 8,
     "metadata": {},
     "output_type": "execute_result"
    }
   ],
   "source": [
    "200 / 60"
   ]
  },
  {
   "cell_type": "markdown",
   "id": "fb2ed844-6d51-433a-b049-a2a62c9334a2",
   "metadata": {},
   "source": [
    "## Author\n",
    "*Andrea Torres*"
   ]
  },
  {
   "cell_type": "code",
   "execution_count": null,
   "id": "a89e23c6-393d-44f6-ad62-8a2bbeed5211",
   "metadata": {},
   "outputs": [],
   "source": []
  }
 ],
 "metadata": {
  "kernelspec": {
   "display_name": "anaconda-panel-2023.05-py310",
   "language": "python",
   "name": "conda-env-anaconda-panel-2023.05-py310-py"
  },
  "language_info": {
   "codemirror_mode": {
    "name": "ipython",
    "version": 3
   },
   "file_extension": ".py",
   "mimetype": "text/x-python",
   "name": "python",
   "nbconvert_exporter": "python",
   "pygments_lexer": "ipython3",
   "version": "3.11.5"
  }
 },
 "nbformat": 4,
 "nbformat_minor": 5
}
